{
 "cells": [
  {
   "cell_type": "code",
   "execution_count": 3,
   "metadata": {},
   "outputs": [],
   "source": [
    "import pandas as pd\n",
    "import numpy as np\n",
    "import matplotlib.pyplot as plt\n",
    "import seaborn as sns"
   ]
  },
  {
   "cell_type": "code",
   "execution_count": 1,
   "metadata": {},
   "outputs": [],
   "source": [
    "from sklearn.metrics import accuracy_score, log_loss,f1_score,roc_curve,roc_auc_score\n",
    "from sklearn.model_selection import StratifiedKFold\n",
    "from sklearn.ensemble import RandomForestClassifier, AdaBoostClassifier, GradientBoostingClassifier\n"
   ]
  },
  {
   "cell_type": "code",
   "execution_count": 4,
   "metadata": {},
   "outputs": [],
   "source": [
    "train = pd.read_csv('train.csv')\n",
    "test = pd.read_csv('test.csv')"
   ]
  },
  {
   "cell_type": "code",
   "execution_count": 78,
   "metadata": {},
   "outputs": [],
   "source": [
    "y = train.iloc[:,-1]\n",
    "X = train.iloc[:,:-1]\n",
    "\n",
    "X = pd.get_dummies(X,columns=['slope_of_peak_exercise_st_segment','resting_ekg_results','chest_pain_type','num_major_vessels'],drop_first=True)"
   ]
  },
  {
   "cell_type": "code",
   "execution_count": 79,
   "metadata": {},
   "outputs": [],
   "source": [
    "X_t = test.copy()\n",
    "X_t = pd.get_dummies(X_t,columns=['slope_of_peak_exercise_st_segment','resting_ekg_results','chest_pain_type','num_major_vessels'],drop_first=True)"
   ]
  },
  {
   "cell_type": "code",
   "execution_count": 81,
   "metadata": {},
   "outputs": [
    {
     "data": {
      "text/plain": [
       "thal_reversible_defect                    2\n",
       "num_major_vessels_1                       2\n",
       "chest_pain_type_4                         2\n",
       "chest_pain_type_3                         2\n",
       "chest_pain_type_2                         2\n",
       "resting_ekg_results_2                     2\n",
       "resting_ekg_results_1                     2\n",
       "slope_of_peak_exercise_st_segment_3       2\n",
       "slope_of_peak_exercise_st_segment_2       2\n",
       "num_major_vessels_3                       2\n",
       "thal_normal                               2\n",
       "exercise_induced_angina                   2\n",
       "sex                                       2\n",
       "fasting_blood_sugar_gt_120_mg_per_dl      2\n",
       "num_major_vessels_2                       2\n",
       "oldpeak_eq_st_depression                 31\n",
       "resting_blood_pressure                   33\n",
       "age                                      40\n",
       "max_heart_rate_achieved                  73\n",
       "serum_cholesterol_mg_per_dl             116\n",
       "dtype: int64"
      ]
     },
     "execution_count": 81,
     "metadata": {},
     "output_type": "execute_result"
    }
   ],
   "source": [
    "X.nunique().sort_values()"
   ]
  },
  {
   "cell_type": "code",
   "execution_count": 9,
   "metadata": {},
   "outputs": [],
   "source": [
    "# Predicted, Actual\n",
    "def metrics_summary(train_pred,y):\n",
    "    print(\"Log Loss:\",log_loss(y, train_pred));print()\n",
    "    print(\"Accuracy:\",accuracy_score(y, train_pred));print()\n",
    "\n",
    "    #confusion matrix\n",
    "    cross = pd.crosstab(train_pred,y\n",
    "                        ,rownames=['Predicted'],colnames=['Actual'])\n",
    "    print(cross)"
   ]
  },
  {
   "cell_type": "markdown",
   "metadata": {},
   "source": [
    "## Baseline"
   ]
  },
  {
   "cell_type": "code",
   "execution_count": 102,
   "metadata": {},
   "outputs": [
    {
     "name": "stdout",
     "output_type": "stream",
     "text": [
      "Log Loss: 0.3837686243736207\n",
      "\n",
      "Accuracy: 0.9888888888888889\n",
      "\n",
      "Actual      0   1\n",
      "Predicted        \n",
      "0          99   1\n",
      "1           1  79\n"
     ]
    },
    {
     "name": "stderr",
     "output_type": "stream",
     "text": [
      "c:\\users\\p s v\\appdata\\local\\programs\\python\\python37-32\\lib\\site-packages\\sklearn\\ensemble\\forest.py:245: FutureWarning: The default value of n_estimators will change from 10 in version 0.20 to 100 in 0.22.\n",
      "  \"10 in version 0.20 to 100 in 0.22.\", FutureWarning)\n"
     ]
    }
   ],
   "source": [
    "clf = RandomForestClassifier(random_state=0).fit(X,y)\n",
    "train_pred = clf.predict(X)\n",
    "metrics_summary(train_pred,y)"
   ]
  },
  {
   "cell_type": "markdown",
   "metadata": {},
   "source": [
    "## Cross validation"
   ]
  },
  {
   "cell_type": "code",
   "execution_count": 129,
   "metadata": {},
   "outputs": [
    {
     "name": "stdout",
     "output_type": "stream",
     "text": [
      "\n",
      "1 of kfold 5\n",
      "accuracy_score 0.7222222222222222\n",
      "\n",
      "2 of kfold 5\n",
      "accuracy_score 0.8055555555555556\n",
      "\n",
      "3 of kfold 5\n",
      "accuracy_score 0.8055555555555556\n",
      "\n",
      "4 of kfold 5\n",
      "accuracy_score 0.75\n",
      "\n",
      "5 of kfold 5\n",
      "accuracy_score 0.8055555555555556\n",
      "\n",
      "Mean score 0.7858156028368796\n"
     ]
    }
   ],
   "source": [
    "i = 1\n",
    "kf = StratifiedKFold(n_splits=5,random_state=1,shuffle=True) \n",
    "# scores = []\n",
    "model = RandomForestClassifier()\n",
    "for train_index,test_index in kf.split(X,y):\n",
    "    print('\\n{} of kfold {}'.format(i,kf.n_splits))\n",
    "    xtr,xvl = X.loc[train_index],X.loc[test_index]\n",
    "    ytr,yvl = y[train_index],y[test_index]\n",
    "    \n",
    "    model = RandomForestClassifier(random_state=0,n_estimators=10,max_features=2)\n",
    "    model.fit(xtr, ytr)     \n",
    "    \n",
    "    pred_test = model.predict(xvl)\n",
    "    score = accuracy_score(yvl,pred_test)\n",
    "    scores.append(score)\n",
    "    print('accuracy_score',score)\n",
    "    i+=1 \n",
    "    \n",
    "print('\\nMean score',np.mean(scores))"
   ]
  },
  {
   "cell_type": "code",
   "execution_count": 104,
   "metadata": {},
   "outputs": [
    {
     "data": {
      "text/plain": [
       "(20,)"
      ]
     },
     "execution_count": 104,
     "metadata": {},
     "output_type": "execute_result"
    }
   ],
   "source": [
    "model.feature_importances_.shape"
   ]
  },
  {
   "cell_type": "code",
   "execution_count": 105,
   "metadata": {},
   "outputs": [
    {
     "name": "stdout",
     "output_type": "stream",
     "text": [
      "Index(['resting_blood_pressure', 'fasting_blood_sugar_gt_120_mg_per_dl',\n",
      "       'serum_cholesterol_mg_per_dl'],\n",
      "      dtype='object')\n"
     ]
    },
    {
     "data": {
      "text/plain": [
       "<matplotlib.axes._subplots.AxesSubplot at 0x14d0c030>"
      ]
     },
     "execution_count": 105,
     "metadata": {},
     "output_type": "execute_result"
    },
    {
     "data": {
      "image/png": "[encoded data removed]",
      "text/plain": [
       "<Figure size 864x576 with 1 Axes>"
      ]
     },
     "metadata": {
      "needs_background": "light"
     },
     "output_type": "display_data"
    }
   ],
   "source": [
    "importances=pd.Series(model.feature_importances_, index=X.columns).sort_values()\n",
    "print(X.columns[:3])\n",
    "importances.plot(kind='barh', figsize=(12,8))"
   ]
  },
  {
   "cell_type": "markdown",
   "metadata": {},
   "source": [
    "## Hyperparameter tuning"
   ]
  },
  {
   "cell_type": "code",
   "execution_count": 85,
   "metadata": {},
   "outputs": [
    {
     "data": {
      "text/plain": [
       "RandomForestClassifier(bootstrap=True, class_weight=None, criterion='gini',\n",
       "                       max_depth=None, max_features=3, max_leaf_nodes=None,\n",
       "                       min_impurity_decrease=0.0, min_impurity_split=None,\n",
       "                       min_samples_leaf=1, min_samples_split=2,\n",
       "                       min_weight_fraction_leaf=0.0, n_estimators=100,\n",
       "                       n_jobs=None, oob_score=False, random_state=0, verbose=0,\n",
       "                       warm_start=True)"
      ]
     },
     "execution_count": 85,
     "metadata": {},
     "output_type": "execute_result"
    }
   ],
   "source": [
    "model"
   ]
  },
  {
   "cell_type": "code",
   "execution_count": 86,
   "metadata": {},
   "outputs": [
    {
     "name": "stdout",
     "output_type": "stream",
     "text": [
      "Fitting 5 folds for each of 13 candidates, totalling 65 fits\n"
     ]
    },
    {
     "name": "stderr",
     "output_type": "stream",
     "text": [
      "[Parallel(n_jobs=1)]: Using backend SequentialBackend with 1 concurrent workers.\n"
     ]
    },
    {
     "name": "stdout",
     "output_type": "stream",
     "text": [
      "Best parameters : {'max_features': 2, 'warm_start': True}\n",
      "Log Loss: 0.19188209108283807\n",
      "\n",
      "Accuracy: 0.9944444444444445\n",
      "\n",
      "Actual       0   1\n",
      "Predicted         \n",
      "0          100   1\n",
      "1            0  79\n"
     ]
    },
    {
     "name": "stderr",
     "output_type": "stream",
     "text": [
      "[Parallel(n_jobs=1)]: Done  65 out of  65 | elapsed:    9.9s finished\n",
      "c:\\users\\p s v\\appdata\\local\\programs\\python\\python37-32\\lib\\site-packages\\sklearn\\ensemble\\forest.py:245: FutureWarning: The default value of n_estimators will change from 10 in version 0.20 to 100 in 0.22.\n",
      "  \"10 in version 0.20 to 100 in 0.22.\", FutureWarning)\n"
     ]
    }
   ],
   "source": [
    "from sklearn.model_selection import GridSearchCV\n",
    "weights = np.linspace(0.05, 0.95, 20)\n",
    "\n",
    "gsc = GridSearchCV(\n",
    "    # Model here\n",
    "    estimator=RandomForestClassifier(random_state=0,n_estimators=100),\n",
    "    param_grid = {\n",
    "                    'max_features':list(range(2,14)) + [None],\n",
    "#                     'max_features':[3],\n",
    "                    'warm_start':[True]\n",
    "                 },\n",
    "    scoring='accuracy',\n",
    "    cv=5,\n",
    "    verbose=1\n",
    ")\n",
    "\n",
    "grid_result = gsc.fit(X, y)\n",
    "print(\"Best parameters : %s\" % grid_result.best_params_)\n",
    "\n",
    "# Model here\n",
    "clf = RandomForestClassifier(**grid_result.best_params_).fit(X, y)\n",
    "train_pred = clf.predict(X)\n",
    "\n",
    "metrics_summary(train_pred,y)"
   ]
  },
  {
   "cell_type": "code",
   "execution_count": null,
   "metadata": {},
   "outputs": [],
   "source": []
  },
  {
   "cell_type": "markdown",
   "metadata": {},
   "source": [
    "## Random tryout"
   ]
  },
  {
   "cell_type": "code",
   "execution_count": null,
   "metadata": {},
   "outputs": [],
   "source": []
  },
  {
   "cell_type": "markdown",
   "metadata": {},
   "source": [
    "## Submission"
   ]
  },
  {
   "cell_type": "code",
   "execution_count": null,
   "metadata": {},
   "outputs": [],
   "source": []
  }
 ],
 "metadata": {
  "kernelspec": {
   "display_name": "Python 3",
   "language": "python",
   "name": "python3"
  },
  "language_info": {
   "codemirror_mode": {
    "name": "ipython",
    "version": 3
   },
   "file_extension": ".py",
   "mimetype": "text/x-python",
   "name": "python",
   "nbconvert_exporter": "python",
   "pygments_lexer": "ipython3",
   "version": "3.7.0"
  },
  "latex_envs": {
   "LaTeX_envs_menu_present": true,
   "autoclose": false,
   "autocomplete": true,
   "bibliofile": "biblio.bib",
   "cite_by": "apalike",
   "current_citInitial": 1,
   "eqLabelWithNumbers": true,
   "eqNumInitial": 1,
   "hotkeys": {
    "equation": "Ctrl-E",
    "itemize": "Ctrl-I"
   },
   "labels_anchors": false,
   "latex_user_defs": false,
   "report_style_numbering": false,
   "user_envs_cfg": false
  }
 },
 "nbformat": 4,
 "nbformat_minor": 2
}
