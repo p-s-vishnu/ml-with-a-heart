{
 "cells": [
  {
   "cell_type": "markdown",
   "metadata": {},
   "source": [
    "# Modelling"
   ]
  },
  {
   "cell_type": "code",
   "execution_count": 4,
   "metadata": {},
   "outputs": [],
   "source": [
    "import pandas as pd\n",
    "import numpy as np\n",
    "import matplotlib.pyplot as plt\n",
    "import seaborn as sns"
   ]
  },
  {
   "cell_type": "code",
   "execution_count": 1,
   "metadata": {},
   "outputs": [],
   "source": [
    "from sklearn.metrics import accuracy_score, log_loss,f1_score,roc_curve,roc_auc_score\n",
    "from sklearn.model_selection import StratifiedKFold\n",
    "\n",
    "from sklearn.linear_model import LogisticRegression,LogisticRegressionCV\n",
    "from sklearn.neighbors import KNeighborsClassifier\n",
    "from sklearn.svm import SVC, LinearSVC, NuSVC\n",
    "from sklearn.tree import DecisionTreeClassifier\n",
    "from sklearn.ensemble import RandomForestClassifier, AdaBoostClassifier, GradientBoostingClassifier\n",
    "from sklearn.naive_bayes import GaussianNB\n",
    "from sklearn.discriminant_analysis import LinearDiscriminantAnalysis\n",
    "from sklearn.discriminant_analysis import QuadraticDiscriminantAnalysis"
   ]
  },
  {
   "cell_type": "code",
   "execution_count": 150,
   "metadata": {},
   "outputs": [],
   "source": [
    "train = pd.read_csv('train.csv')\n",
    "test = pd.read_csv('test.csv')"
   ]
  },
  {
   "cell_type": "code",
   "execution_count": 151,
   "metadata": {},
   "outputs": [],
   "source": [
    "train_pca = pd.read_csv('train_pca.csv')\n",
    "test_pca = pd.read_csv('test_pca.csv')"
   ]
  },
  {
   "cell_type": "code",
   "execution_count": 159,
   "metadata": {},
   "outputs": [
    {
     "data": {
      "text/plain": [
       "Index(['slope_of_peak_exercise_st_segment', 'resting_blood_pressure',\n",
       "       'chest_pain_type', 'num_major_vessels',\n",
       "       'fasting_blood_sugar_gt_120_mg_per_dl', 'resting_ekg_results',\n",
       "       'serum_cholesterol_mg_per_dl', 'oldpeak_eq_st_depression', 'sex', 'age',\n",
       "       'max_heart_rate_achieved', 'exercise_induced_angina', 'thal_normal',\n",
       "       'thal_reversible_defect'],\n",
       "      dtype='object')"
      ]
     },
     "execution_count": 159,
     "metadata": {},
     "output_type": "execute_result"
    }
   ],
   "source": [
    "y = train.iloc[:,-1]\n",
    "X = train.iloc[:,:-1]\n",
    "X.columns"
   ]
  },
  {
   "cell_type": "code",
   "execution_count": 161,
   "metadata": {},
   "outputs": [
    {
     "data": {
      "text/plain": [
       "Index(['slope_of_peak_exercise_st_segment', 'resting_blood_pressure',\n",
       "       'chest_pain_type', 'num_major_vessels',\n",
       "       'fasting_blood_sugar_gt_120_mg_per_dl', 'resting_ekg_results',\n",
       "       'serum_cholesterol_mg_per_dl', 'oldpeak_eq_st_depression', 'sex', 'age',\n",
       "       'max_heart_rate_achieved', 'exercise_induced_angina', 'thal_normal',\n",
       "       'thal_reversible_defect'],\n",
       "      dtype='object')"
      ]
     },
     "execution_count": 161,
     "metadata": {},
     "output_type": "execute_result"
    }
   ],
   "source": [
    "X_t = test.copy()\n",
    "X_t.columns"
   ]
  },
  {
   "cell_type": "markdown",
   "metadata": {},
   "source": [
    "## Baseline model\n",
    "\n",
    "(Considering all the features)"
   ]
  },
  {
   "cell_type": "code",
   "execution_count": 126,
   "metadata": {},
   "outputs": [],
   "source": [
    "# Predicted, Actual\n",
    "def metrics_summary(train_pred,y):\n",
    "    print(\"Log Loss:\",log_loss(y, train_pred));print()\n",
    "    print(\"Accuracy:\",accuracy_score(y, train_pred));print()\n",
    "\n",
    "    #confusion matrix\n",
    "    cross = pd.crosstab(train_pred,y\n",
    "                        ,rownames=['Predicted'],colnames=['Actual'])\n",
    "    print(cross)"
   ]
  },
  {
   "cell_type": "markdown",
   "metadata": {},
   "source": [
    "#### Logistics regression"
   ]
  },
  {
   "cell_type": "code",
   "execution_count": 127,
   "metadata": {},
   "outputs": [
    {
     "name": "stdout",
     "output_type": "stream",
     "text": [
      "Log Loss: 4.9889876746491115\n",
      "\n",
      "Accuracy: 0.8555555555555555\n",
      "\n",
      "Actual      0   1\n",
      "Predicted        \n",
      "0          88  14\n",
      "1          12  66\n"
     ]
    }
   ],
   "source": [
    "# Highest with normal features\n",
    "clf = LogisticRegression(random_state=0,penalty='l2',class_weight=\"balanced\",solver=\"lbfgs\",max_iter=1500).fit(X, y)\n",
    "train_pred = clf.predict(X)\n",
    "\n",
    "metrics_summary(train_pred,y)"
   ]
  },
  {
   "cell_type": "code",
   "execution_count": 156,
   "metadata": {},
   "outputs": [
    {
     "name": "stdout",
     "output_type": "stream",
     "text": [
      "Log Loss: 11.321149986878083\n",
      "\n",
      "Accuracy: 0.6722222222222223\n",
      "\n",
      "Actual      0   1\n",
      "Predicted        \n",
      "0          76  35\n",
      "1          24  45\n"
     ]
    },
    {
     "name": "stderr",
     "output_type": "stream",
     "text": [
      "c:\\users\\p s v\\appdata\\local\\programs\\python\\python37-32\\lib\\site-packages\\sklearn\\linear_model\\logistic.py:432: FutureWarning: Default solver will be changed to 'lbfgs' in 0.22. Specify a solver to silence this warning.\n",
      "  FutureWarning)\n"
     ]
    }
   ],
   "source": [
    "# with pca features\n",
    "# clf = LogisticRegression(random_state=0).fit(X, y)\n",
    "# train_pred = clf.predict(X)\n",
    "\n",
    "# metrics_summary(train_pred,y)"
   ]
  },
  {
   "cell_type": "markdown",
   "metadata": {},
   "source": [
    "## Cross validation strategy"
   ]
  },
  {
   "cell_type": "code",
   "execution_count": 165,
   "metadata": {},
   "outputs": [
    {
     "name": "stdout",
     "output_type": "stream",
     "text": [
      "\n",
      "1 of kfold 5\n",
      "accuracy_score 0.8055555555555556\n",
      "\n",
      "2 of kfold 5\n",
      "accuracy_score 0.8333333333333334\n",
      "\n",
      "3 of kfold 5\n",
      "accuracy_score 0.8611111111111112\n",
      "\n",
      "4 of kfold 5\n",
      "accuracy_score 0.8333333333333334\n",
      "\n",
      "5 of kfold 5\n",
      "accuracy_score 0.7777777777777778\n",
      "Mean score 0.8222222222222223\n"
     ]
    }
   ],
   "source": [
    "i = 1\n",
    "kf = StratifiedKFold(n_splits=5,random_state=1,shuffle=True) \n",
    "scores = []\n",
    "\n",
    "for train_index,test_index in kf.split(X.loc[:,['slope_of_peak_exercise_st_segment', 'resting_blood_pressure','chest_pain_type']],y):\n",
    "    print('\\n{} of kfold {}'.format(i,kf.n_splits))\n",
    "    xtr,xvl = X.loc[train_index],X.loc[test_index]\n",
    "    ytr,yvl = y[train_index],y[test_index]\n",
    "    model = LogisticRegression(random_state=0,class_weight=\"balanced\",solver=\"lbfgs\",max_iter=2500)\n",
    "    model.fit(xtr, ytr)     \n",
    "    pred_test = model.predict(xvl)\n",
    "    score = accuracy_score(yvl,pred_test)\n",
    "    scores.append(score)\n",
    "    print('accuracy_score',score)\n",
    "    metrics_summary(yva)\n",
    "    i+=1 \n",
    "print('Mean score',np.mean(scores))"
   ]
  },
  {
   "cell_type": "markdown",
   "metadata": {},
   "source": [
    "## Hyperparameter tuning"
   ]
  },
  {
   "cell_type": "code",
   "execution_count": 158,
   "metadata": {},
   "outputs": [
    {
     "name": "stdout",
     "output_type": "stream",
     "text": [
      "Best parameters : {'C': 0.001, 'class_weight': 'balanced', 'max_iter': 5000, 'penalty': 'l2', 'random_state': 0, 'solver': 'lbfgs'}\n",
      "Log Loss: 12.280600422163777\n",
      "\n",
      "Accuracy: 0.6444444444444445\n",
      "\n",
      "Actual      0   1\n",
      "Predicted        \n",
      "0          67  31\n",
      "1          33  49\n"
     ]
    }
   ],
   "source": [
    "from sklearn.model_selection import GridSearchCV\n",
    "weights = np.linspace(0.05, 0.95, 20)\n",
    "gsc = GridSearchCV(\n",
    "    estimator=LogisticRegression(),\n",
    "    param_grid = {'C': [0.001, 0.01, 0.1,0.2,0.3,0.35,0.36,0.37,0.4,0.5, 0.8,0.9,1,2, 10, 100, 1000],\n",
    "                  'random_state': [0],\n",
    "                  'penalty':['l2'],\n",
    "                  'solver':['lbfgs'],\n",
    "#                  'solver':[\"lbfgs\",\"newton-cg\",\"liblinear\",\"sag\",\"saga\"],\n",
    "                  \"max_iter\": [5000],\n",
    "                  \"class_weight\":[\"balanced\"]\n",
    "                 },\n",
    "    scoring='accuracy',\n",
    "    cv=5\n",
    ")\n",
    "\n",
    "grid_result = gsc.fit(X, y)\n",
    "print(\"Best parameters : %s\" % grid_result.best_params_)\n",
    "\n",
    "clf = LogisticRegression(**grid_result.best_params_).fit(X, y)\n",
    "train_pred = clf.predict(X)\n",
    "\n",
    "metrics_summary(train_pred,y)"
   ]
  },
  {
   "cell_type": "markdown",
   "metadata": {},
   "source": [
    "## Submission"
   ]
  },
  {
   "cell_type": "code",
   "execution_count": null,
   "metadata": {},
   "outputs": [],
   "source": [
    "submission = pd.read_csv('./data/submission_format.csv')\n",
    "print(submission.info())\n",
    "\n",
    "submission.head()\n",
    "\n",
    "test_X.head()\n",
    "\n",
    "ids = test_X['patient_id']\n",
    "test_preds = clf.predict(test_X.drop(columns=['patient_id']))\n",
    "test_preds\n",
    "\n",
    "ids = test_X['patient_id']\n",
    "test_preds1 = clf.predict(test_X.drop(columns=['patient_id']))\n",
    "test_preds1\n",
    "\n",
    "submission['patient_id'] = ids\n",
    "submission['heart_disease_present'] = test_preds.astype('float')\n",
    "\n",
    "submission.info()\n",
    "\n",
    "submission.to_csv('logistic_out.csv',index=False)\n",
    "\n",
    "sum(test_preds != test_preds1) "
   ]
  }
 ],
 "metadata": {
  "kernelspec": {
   "display_name": "Python 3",
   "language": "python",
   "name": "python3"
  },
  "language_info": {
   "codemirror_mode": {
    "name": "ipython",
    "version": 3
   },
   "file_extension": ".py",
   "mimetype": "text/x-python",
   "name": "python",
   "nbconvert_exporter": "python",
   "pygments_lexer": "ipython3",
   "version": "3.7.0"
  },
  "latex_envs": {
   "LaTeX_envs_menu_present": true,
   "autoclose": false,
   "autocomplete": true,
   "bibliofile": "biblio.bib",
   "cite_by": "apalike",
   "current_citInitial": 1,
   "eqLabelWithNumbers": true,
   "eqNumInitial": 1,
   "hotkeys": {
    "equation": "Ctrl-E",
    "itemize": "Ctrl-I"
   },
   "labels_anchors": false,
   "latex_user_defs": false,
   "report_style_numbering": false,
   "user_envs_cfg": false
  }
 },
 "nbformat": 4,
 "nbformat_minor": 2
}
