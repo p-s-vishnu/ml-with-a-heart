{
 "cells": [
  {
   "cell_type": "code",
   "execution_count": 1,
   "metadata": {},
   "outputs": [],
   "source": [
    "import pandas as pd\n",
    "import numpy as np\n",
    "import matplotlib.pyplot as plt\n",
    "import seaborn as sns\n",
    "\n",
    "from sklearn.metrics import accuracy_score, log_loss,f1_score,roc_curve,roc_auc_score\n",
    "from sklearn.model_selection import StratifiedKFold\n",
    "from sklearn.neighbors import KNeighborsClassifier"
   ]
  },
  {
   "cell_type": "code",
   "execution_count": null,
   "metadata": {},
   "outputs": [],
   "source": [
    "train = pd.read_csv('train.csv')\n",
    "test = pd.read_csv('test.csv')\n",
    "\n",
    "y = train.iloc[:,-1]\n",
    "X = train.iloc[:,:-1]\n",
    "X_t = test.copy()\n",
    "\n",
    "X = pd.get_dummies(X,columns=['slope_of_peak_exercise_st_segment','resting_ekg_results','chest_pain_type','num_major_vessels'],drop_first=True)\n",
    "\n",
    "X_t = pd.get_dummies(X_t,columns=['slope_of_peak_exercise_st_segment','resting_ekg_results','chest_pain_type','num_major_vessels'],drop_first=True)"
   ]
  },
  {
   "cell_type": "code",
   "execution_count": 6,
   "metadata": {},
   "outputs": [],
   "source": [
    "# Predicted, Actual\n",
    "def metrics_summary(train_pred,y):\n",
    "    print(\"Log Loss:\",log_loss(y, train_pred));print()\n",
    "    print(\"Accuracy:\",accuracy_score(y, train_pred));print()\n",
    "\n",
    "    #confusion matrix\n",
    "    cross = pd.crosstab(train_pred,y\n",
    "                        ,rownames=['Predicted'],colnames=['Actual'])\n",
    "    print(cross)"
   ]
  },
  {
   "cell_type": "code",
   "execution_count": 8,
   "metadata": {},
   "outputs": [
    {
     "name": "stdout",
     "output_type": "stream",
     "text": [
      "Log Loss: 7.867241251931397\n",
      "\n",
      "Accuracy: 0.7722222222222223\n",
      "\n",
      "Actual      0   1\n",
      "Predicted        \n",
      "0          83  24\n",
      "1          17  56\n"
     ]
    }
   ],
   "source": [
    "# Highest with normal features\n",
    "clf = KNeighborsClassifier().fit(X, y)\n",
    "train_pred = clf.predict(X)\n",
    "\n",
    "metrics_summary(train_pred,y)"
   ]
  },
  {
   "cell_type": "markdown",
   "metadata": {},
   "source": [
    "## Cross validation"
   ]
  },
  {
   "cell_type": "code",
   "execution_count": 14,
   "metadata": {},
   "outputs": [
    {
     "name": "stdout",
     "output_type": "stream",
     "text": [
      "\n",
      "1 of kfold 5\n",
      "accuracy_score 0.6944444444444444\n",
      "\n",
      "2 of kfold 5\n",
      "accuracy_score 0.5833333333333334\n",
      "\n",
      "3 of kfold 5\n",
      "accuracy_score 0.6388888888888888\n",
      "\n",
      "4 of kfold 5\n",
      "accuracy_score 0.6388888888888888\n",
      "\n",
      "5 of kfold 5\n",
      "accuracy_score 0.6111111111111112\n",
      "Mean score 0.6333333333333333\n"
     ]
    }
   ],
   "source": [
    "i = 1\n",
    "kf = StratifiedKFold(n_splits=5,random_state=1,shuffle=True) \n",
    "scores = []\n",
    "for train_index,test_index in kf.split(X,y):\n",
    "    print('\\n{} of kfold {}'.format(i,kf.n_splits))\n",
    "    xtr,xvl = X.loc[train_index],X.loc[test_index]\n",
    "    ytr,yvl = y[train_index],y[test_index]\n",
    "    model = KNeighborsClassifier(n_neighbors=60)\n",
    "    model.fit(xtr, ytr)     \n",
    "    pred_test = model.predict(xvl)\n",
    "    score = accuracy_score(yvl,pred_test)\n",
    "    scores.append(score)\n",
    "    print('accuracy_score',score)\n",
    "    i+=1 \n",
    "\n",
    "print('Mean score',np.mean(scores))"
   ]
  }
 ],
 "metadata": {
  "kernelspec": {
   "display_name": "Python 3",
   "language": "python",
   "name": "python3"
  },
  "language_info": {
   "codemirror_mode": {
    "name": "ipython",
    "version": 3
   },
   "file_extension": ".py",
   "mimetype": "text/x-python",
   "name": "python",
   "nbconvert_exporter": "python",
   "pygments_lexer": "ipython3",
   "version": "3.7.0"
  },
  "latex_envs": {
   "LaTeX_envs_menu_present": true,
   "autoclose": false,
   "autocomplete": true,
   "bibliofile": "biblio.bib",
   "cite_by": "apalike",
   "current_citInitial": 1,
   "eqLabelWithNumbers": true,
   "eqNumInitial": 1,
   "hotkeys": {
    "equation": "Ctrl-E",
    "itemize": "Ctrl-I"
   },
   "labels_anchors": false,
   "latex_user_defs": false,
   "report_style_numbering": false,
   "user_envs_cfg": false
  }
 },
 "nbformat": 4,
 "nbformat_minor": 2
}
